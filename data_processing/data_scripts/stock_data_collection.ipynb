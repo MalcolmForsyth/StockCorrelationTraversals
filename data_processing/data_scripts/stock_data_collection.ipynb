{
 "cells": [
  {
   "cell_type": "code",
   "execution_count": 2,
   "id": "ba35fdae",
   "metadata": {},
   "outputs": [],
   "source": [
    "import requests\n",
    "import time\n",
    "import json"
   ]
  },
  {
   "cell_type": "code",
   "execution_count": 3,
   "id": "d7291254",
   "metadata": {},
   "outputs": [],
   "source": [
    "sp_list = []\n",
    "stock_dict = {}\n",
    "\n",
    "#grab a list of stocks\n",
    "with open(\"./datasets/s&p_500.txt\", \"r\") as sp500:\n",
    "  for line in sp500:\n",
    "    stripped_line = line.strip()\n",
    "    sp_list.append(stripped_line)"
   ]
  },
  {
   "cell_type": "code",
   "execution_count": null,
   "id": "493e5ba9",
   "metadata": {},
   "outputs": [],
   "source": [
    "#grab the stock data from the API of the list of stocks\n",
    "for stock in sp_list:\n",
    "    url = 'https://www.alphavantage.co/query?function=TIME_SERIES_INTRADAY&symbol=' + stock + '&interval=30min&apikey=ZGZ4OJNI93JTJNTJ&outputsize=full'\n",
    "    r = requests.get(url)\n",
    "    data = r.json()\n",
    "    keys = data.keys()\n",
    "    stock_dict = {}\n",
    "    if len(keys) > 1:\n",
    "        prices = data[list(keys)[1]]\n",
    "        for key in prices.keys():\n",
    "            prices[key] = prices[key]['1. open']\n",
    "        stock_dict[stock] = prices\n",
    "        print(stock)\n",
    "        with open('./datasets/stock_time_series' + (stock) + 'stock_data.txt', 'w') as data_file:\n",
    "            data_file.write(json.dumps(stock_dict))\n",
    "    time.sleep(12.1)"
   ]
  }
 ],
 "metadata": {
  "kernelspec": {
   "display_name": "Python 3",
   "language": "python",
   "name": "python3"
  },
  "language_info": {
   "codemirror_mode": {
    "name": "ipython",
    "version": 3
   },
   "file_extension": ".py",
   "mimetype": "text/x-python",
   "name": "python",
   "nbconvert_exporter": "python",
   "pygments_lexer": "ipython3",
   "version": "3.8.8"
  }
 },
 "nbformat": 4,
 "nbformat_minor": 5
}
