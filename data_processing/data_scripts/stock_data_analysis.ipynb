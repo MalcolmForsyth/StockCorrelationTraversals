{
 "cells": [
  {
   "cell_type": "code",
   "execution_count": 1,
   "id": "77639a9b",
   "metadata": {},
   "outputs": [],
   "source": [
    "import numpy as np"
   ]
  },
  {
   "cell_type": "code",
   "execution_count": null,
   "id": "4e9dd698",
   "metadata": {},
   "outputs": [],
   "source": [
    "#grab our stock dictionary\n",
    "file = open(\"stock_data.txt\", \"r\")\n",
    "contents = file.read()\n",
    "stock_dict = ast.literal_eval(contents)\n",
    "file.close()"
   ]
  },
  {
   "cell_type": "code",
   "execution_count": null,
   "id": "cd4d871d",
   "metadata": {},
   "outputs": [],
   "source": [
    "#grab the 500 stocks\n",
    "sp_list = []\n",
    "with open(\"s&p_500.txt\", \"r\") as sp500:\n",
    "  for line in sp500:\n",
    "    stripped_line = line.strip()\n",
    "    sp_list.append(stripped_line)"
   ]
  },
  {
   "cell_type": "code",
   "execution_count": null,
   "id": "4dde7d7e",
   "metadata": {},
   "outputs": [],
   "source": [
    "%%time\n",
    "#create the matrix of increases and decreases\n",
    "length_of_time_series = len(stock_dict[list(stock_dict.keys())[0]])\n",
    "up_or_down_matrix = np.zeros(len(sp_list), length_of_time_series - 1)\n",
    "for n, stock in enumerate(sp_list):\n",
    "    data_of_stock = stock_dict[stock]\n",
    "    keys = list(data_of_stock.keys())\n",
    "    for i in range(len(keys) - 1):\n",
    "        if float(data_of_stock[keys[i]]) < float(data_of_stock[keys[i + 1]]):\n",
    "            up_or_down_matrix[n, i] = 1\n",
    "file = open(\"up_or_down_matrix.txt\", \"w\")\n",
    "np.savetxt(file, up_or_down_matrix)"
   ]
  }
 ],
 "metadata": {
  "kernelspec": {
   "display_name": "Python 3",
   "language": "python",
   "name": "python3"
  },
  "language_info": {
   "codemirror_mode": {
    "name": "ipython",
    "version": 3
   },
   "file_extension": ".py",
   "mimetype": "text/x-python",
   "name": "python",
   "nbconvert_exporter": "python",
   "pygments_lexer": "ipython3",
   "version": "3.8.8"
  }
 },
 "nbformat": 4,
 "nbformat_minor": 5
}
